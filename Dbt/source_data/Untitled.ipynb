{
 "cells": [
  {
   "cell_type": "code",
   "execution_count": 2,
   "id": "0c899b75-7f84-4480-89cd-68cb1bea699f",
   "metadata": {},
   "outputs": [],
   "source": [
    "import requests\n",
    "import json"
   ]
  },
  {
   "cell_type": "code",
   "execution_count": 7,
   "id": "b03b769b-6cf5-4730-b9d4-1259b34e5fba",
   "metadata": {},
   "outputs": [
    {
     "ename": "KeyError",
     "evalue": "'matches'",
     "output_type": "error",
     "traceback": [
      "\u001b[1;31m---------------------------------------------------------------------------\u001b[0m",
      "\u001b[1;31mKeyError\u001b[0m                                  Traceback (most recent call last)",
      "Cell \u001b[1;32mIn[7], line 6\u001b[0m\n\u001b[0;32m      3\u001b[0m headers \u001b[38;5;241m=\u001b[39m { \u001b[38;5;124m'\u001b[39m\u001b[38;5;124mX-Auth-Token\u001b[39m\u001b[38;5;124m'\u001b[39m : \u001b[38;5;124m'\u001b[39m\u001b[38;5;124mUR_TOKEN\u001b[39m\u001b[38;5;124m'\u001b[39m }\n\u001b[0;32m      5\u001b[0m response \u001b[38;5;241m=\u001b[39m requests\u001b[38;5;241m.\u001b[39mget(uri, headers\u001b[38;5;241m=\u001b[39mheaders)\n\u001b[1;32m----> 6\u001b[0m \u001b[38;5;28;01mfor\u001b[39;00m match \u001b[38;5;129;01min\u001b[39;00m \u001b[43mresponse\u001b[49m\u001b[38;5;241;43m.\u001b[39;49m\u001b[43mjson\u001b[49m\u001b[43m(\u001b[49m\u001b[43m)\u001b[49m\u001b[43m[\u001b[49m\u001b[38;5;124;43m'\u001b[39;49m\u001b[38;5;124;43mmatches\u001b[39;49m\u001b[38;5;124;43m'\u001b[39;49m\u001b[43m]\u001b[49m:\n\u001b[0;32m      7\u001b[0m     \u001b[38;5;28mprint\u001b[39m (match)\n",
      "\u001b[1;31mKeyError\u001b[0m: 'matches'"
     ]
    }
   ],
   "source": [
    "uri = 'https://api.football-data.org/v4/matches' \n",
    "UR_TOKEN = \"397fe1adda68491385cb69bb407df652\"\n",
    "headers = { 'X-Auth-Token' : 'UR_TOKEN' }\n",
    "\n",
    "response = requests.get(uri, headers=headers)\n",
    "for match in response.json()['matches']:\n",
    "    print (match)"
   ]
  },
  {
   "cell_type": "code",
   "execution_count": 10,
   "id": "7fd0f9d8-8053-4d0c-897c-89fd83ca434e",
   "metadata": {},
   "outputs": [
    {
     "name": "stdout",
     "output_type": "stream",
     "text": [
      "{'area': {'id': 2077, 'name': 'Europe', 'code': 'EUR', 'flag': 'https://crests.football-data.org/EUR.svg'}, 'competition': {'id': 2001, 'name': 'UEFA Champions League', 'code': 'CL', 'type': 'CUP', 'emblem': 'https://crests.football-data.org/CL.png'}, 'season': {'id': 2350, 'startDate': '2024-09-17', 'endDate': '2025-05-31', 'currentMatchday': 1, 'winner': None}, 'id': 524062, 'utcDate': '2024-09-18T16:45:00Z', 'status': 'TIMED', 'matchday': 1, 'stage': 'LEAGUE_STAGE', 'group': None, 'lastUpdated': '2024-09-18T01:32:00Z', 'homeTeam': {'id': 907, 'name': 'AC Sparta Praha', 'shortName': 'Sparta Praha', 'tla': 'SPP', 'crest': 'https://crests.football-data.org/907.png'}, 'awayTeam': {'id': 1877, 'name': 'FC Red Bull Salzburg', 'shortName': 'RB Salzburg', 'tla': 'RBS', 'crest': 'https://crests.football-data.org/1877.png'}, 'score': {'winner': None, 'duration': 'REGULAR', 'fullTime': {'home': None, 'away': None}, 'halfTime': {'home': None, 'away': None}}, 'odds': {'msg': 'Activate Odds-Package in User-Panel to retrieve odds.'}, 'referees': []}\n",
      "{'area': {'id': 2077, 'name': 'Europe', 'code': 'EUR', 'flag': 'https://crests.football-data.org/EUR.svg'}, 'competition': {'id': 2001, 'name': 'UEFA Champions League', 'code': 'CL', 'type': 'CUP', 'emblem': 'https://crests.football-data.org/CL.png'}, 'season': {'id': 2350, 'startDate': '2024-09-17', 'endDate': '2025-05-31', 'currentMatchday': 1, 'winner': None}, 'id': 524049, 'utcDate': '2024-09-18T16:45:00Z', 'status': 'TIMED', 'matchday': 1, 'stage': 'LEAGUE_STAGE', 'group': None, 'lastUpdated': '2024-09-18T01:32:00Z', 'homeTeam': {'id': 103, 'name': 'Bologna FC 1909', 'shortName': 'Bologna', 'tla': 'BOL', 'crest': 'https://crests.football-data.org/103.png'}, 'awayTeam': {'id': 1887, 'name': 'FK Shakhtar Donetsk', 'shortName': 'Shaktar', 'tla': 'SHD', 'crest': 'https://crests.football-data.org/1887.png'}, 'score': {'winner': None, 'duration': 'REGULAR', 'fullTime': {'home': None, 'away': None}, 'halfTime': {'home': None, 'away': None}}, 'odds': {'msg': 'Activate Odds-Package in User-Panel to retrieve odds.'}, 'referees': []}\n",
      "{'area': {'id': 2224, 'name': 'Spain', 'code': 'ESP', 'flag': 'https://crests.football-data.org/760.svg'}, 'competition': {'id': 2014, 'name': 'Primera Division', 'code': 'PD', 'type': 'LEAGUE', 'emblem': 'https://crests.football-data.org/laliga.png'}, 'season': {'id': 2292, 'startDate': '2024-08-18', 'endDate': '2025-05-25', 'currentMatchday': 7, 'winner': None}, 'id': 498634, 'utcDate': '2024-09-18T17:00:00Z', 'status': 'TIMED', 'matchday': 3, 'stage': 'REGULAR_SEASON', 'group': None, 'lastUpdated': '2024-09-18T01:32:00Z', 'homeTeam': {'id': 90, 'name': 'Real Betis Balompié', 'shortName': 'Real Betis', 'tla': 'BET', 'crest': 'https://crests.football-data.org/90.png'}, 'awayTeam': {'id': 82, 'name': 'Getafe CF', 'shortName': 'Getafe', 'tla': 'GET', 'crest': 'https://crests.football-data.org/82.png'}, 'score': {'winner': None, 'duration': 'REGULAR', 'fullTime': {'home': None, 'away': None}, 'halfTime': {'home': None, 'away': None}}, 'odds': {'msg': 'Activate Odds-Package in User-Panel to retrieve odds.'}, 'referees': []}\n",
      "{'area': {'id': 2163, 'name': 'Netherlands', 'code': 'NLD', 'flag': 'https://crests.football-data.org/8601.svg'}, 'competition': {'id': 2003, 'name': 'Eredivisie', 'code': 'DED', 'type': 'LEAGUE', 'emblem': 'https://crests.football-data.org/ED.png'}, 'season': {'id': 2293, 'startDate': '2024-08-09', 'endDate': '2025-05-18', 'currentMatchday': 5, 'winner': None}, 'id': 499018, 'utcDate': '2024-09-18T18:00:00Z', 'status': 'TIMED', 'matchday': 3, 'stage': 'REGULAR_SEASON', 'group': None, 'lastUpdated': '2024-09-18T01:32:00Z', 'homeTeam': {'id': 678, 'name': 'AFC Ajax', 'shortName': 'Ajax', 'tla': 'AJA', 'crest': 'https://crests.football-data.org/678.png'}, 'awayTeam': {'id': 1920, 'name': 'Fortuna Sittard', 'shortName': 'Sittard', 'tla': 'SIT', 'crest': 'https://crests.football-data.org/1920.png'}, 'score': {'winner': None, 'duration': 'REGULAR', 'fullTime': {'home': None, 'away': None}, 'halfTime': {'home': None, 'away': None}}, 'odds': {'msg': 'Activate Odds-Package in User-Panel to retrieve odds.'}, 'referees': []}\n",
      "{'area': {'id': 2077, 'name': 'Europe', 'code': 'EUR', 'flag': 'https://crests.football-data.org/EUR.svg'}, 'competition': {'id': 2001, 'name': 'UEFA Champions League', 'code': 'CL', 'type': 'CUP', 'emblem': 'https://crests.football-data.org/CL.png'}, 'season': {'id': 2350, 'startDate': '2024-09-17', 'endDate': '2025-05-31', 'currentMatchday': 1, 'winner': None}, 'id': 523959, 'utcDate': '2024-09-18T19:00:00Z', 'status': 'TIMED', 'matchday': 1, 'stage': 'LEAGUE_STAGE', 'group': None, 'lastUpdated': '2024-09-18T01:32:00Z', 'homeTeam': {'id': 524, 'name': 'Paris Saint-Germain FC', 'shortName': 'PSG', 'tla': 'PSG', 'crest': 'https://crests.football-data.org/524.png'}, 'awayTeam': {'id': 298, 'name': 'Girona FC', 'shortName': 'Girona', 'tla': 'GIR', 'crest': 'https://crests.football-data.org/298.png'}, 'score': {'winner': None, 'duration': 'REGULAR', 'fullTime': {'home': None, 'away': None}, 'halfTime': {'home': None, 'away': None}}, 'odds': {'msg': 'Activate Odds-Package in User-Panel to retrieve odds.'}, 'referees': []}\n",
      "{'area': {'id': 2077, 'name': 'Europe', 'code': 'EUR', 'flag': 'https://crests.football-data.org/EUR.svg'}, 'competition': {'id': 2001, 'name': 'UEFA Champions League', 'code': 'CL', 'type': 'CUP', 'emblem': 'https://crests.football-data.org/CL.png'}, 'season': {'id': 2350, 'startDate': '2024-09-17', 'endDate': '2025-05-31', 'currentMatchday': 1, 'winner': None}, 'id': 524007, 'utcDate': '2024-09-18T19:00:00Z', 'status': 'TIMED', 'matchday': 1, 'stage': 'LEAGUE_STAGE', 'group': None, 'lastUpdated': '2024-09-18T01:32:00Z', 'homeTeam': {'id': 732, 'name': 'Celtic FC', 'shortName': 'Celtic', 'tla': 'CEL', 'crest': 'https://crests.football-data.org/732.png'}, 'awayTeam': {'id': 7509, 'name': 'ŠK Slovan Bratislava', 'shortName': 'Sl. Bratislava', 'tla': 'SBA', 'crest': 'https://crests.football-data.org/7509.png'}, 'score': {'winner': None, 'duration': 'REGULAR', 'fullTime': {'home': None, 'away': None}, 'halfTime': {'home': None, 'away': None}}, 'odds': {'msg': 'Activate Odds-Package in User-Panel to retrieve odds.'}, 'referees': []}\n",
      "{'area': {'id': 2077, 'name': 'Europe', 'code': 'EUR', 'flag': 'https://crests.football-data.org/EUR.svg'}, 'competition': {'id': 2001, 'name': 'UEFA Champions League', 'code': 'CL', 'type': 'CUP', 'emblem': 'https://crests.football-data.org/CL.png'}, 'season': {'id': 2350, 'startDate': '2024-09-17', 'endDate': '2025-05-31', 'currentMatchday': 1, 'winner': None}, 'id': 523952, 'utcDate': '2024-09-18T19:00:00Z', 'status': 'TIMED', 'matchday': 1, 'stage': 'LEAGUE_STAGE', 'group': None, 'lastUpdated': '2024-09-18T01:32:00Z', 'homeTeam': {'id': 65, 'name': 'Manchester City FC', 'shortName': 'Man City', 'tla': 'MCI', 'crest': 'https://crests.football-data.org/65.png'}, 'awayTeam': {'id': 108, 'name': 'FC Internazionale Milano', 'shortName': 'Inter', 'tla': 'INT', 'crest': 'https://crests.football-data.org/108.png'}, 'score': {'winner': None, 'duration': 'REGULAR', 'fullTime': {'home': None, 'away': None}, 'halfTime': {'home': None, 'away': None}}, 'odds': {'msg': 'Activate Odds-Package in User-Panel to retrieve odds.'}, 'referees': []}\n",
      "{'area': {'id': 2077, 'name': 'Europe', 'code': 'EUR', 'flag': 'https://crests.football-data.org/EUR.svg'}, 'competition': {'id': 2001, 'name': 'UEFA Champions League', 'code': 'CL', 'type': 'CUP', 'emblem': 'https://crests.football-data.org/CL.png'}, 'season': {'id': 2350, 'startDate': '2024-09-17', 'endDate': '2025-05-31', 'currentMatchday': 1, 'winner': None}, 'id': 523988, 'utcDate': '2024-09-18T19:00:00Z', 'status': 'TIMED', 'matchday': 1, 'stage': 'LEAGUE_STAGE', 'group': None, 'lastUpdated': '2024-09-18T01:32:00Z', 'homeTeam': {'id': 851, 'name': 'Club Brugge KV', 'shortName': 'Club Brugge', 'tla': 'CLU', 'crest': 'https://crests.football-data.org/851.png'}, 'awayTeam': {'id': 4, 'name': 'Borussia Dortmund', 'shortName': 'Dortmund', 'tla': 'BVB', 'crest': 'https://crests.football-data.org/4.png'}, 'score': {'winner': None, 'duration': 'REGULAR', 'fullTime': {'home': None, 'away': None}, 'halfTime': {'home': None, 'away': None}}, 'odds': {'msg': 'Activate Odds-Package in User-Panel to retrieve odds.'}, 'referees': []}\n"
     ]
    }
   ],
   "source": [
    "import requests\n",
    "import json\n",
    "\n",
    "uri = 'https://api.football-data.org/v4/matches'\n",
    "headers = { 'X-Auth-Token': '397fe1adda68491385cb69bb407df652' }\n",
    "\n",
    "response = requests.get(uri, headers=headers)\n",
    "for match in response.json()['matches']:\n",
    "  print (match)"
   ]
  },
  {
   "cell_type": "code",
   "execution_count": 16,
   "id": "54a83242-e900-46b5-9e3f-7e7f26873bbd",
   "metadata": {},
   "outputs": [
    {
     "ename": "KeyError",
     "evalue": "'homeTeam'",
     "output_type": "error",
     "traceback": [
      "\u001b[1;31m---------------------------------------------------------------------------\u001b[0m",
      "\u001b[1;31mKeyError\u001b[0m                                  Traceback (most recent call last)",
      "Cell \u001b[1;32mIn[16], line 27\u001b[0m\n\u001b[0;32m     25\u001b[0m home_team \u001b[38;5;241m=\u001b[39m match[\u001b[38;5;124m'\u001b[39m\u001b[38;5;124mhomeTeam\u001b[39m\u001b[38;5;124m'\u001b[39m][\u001b[38;5;124m'\u001b[39m\u001b[38;5;124mname\u001b[39m\u001b[38;5;124m'\u001b[39m]\n\u001b[0;32m     26\u001b[0m away_team \u001b[38;5;241m=\u001b[39m match[\u001b[38;5;124m'\u001b[39m\u001b[38;5;124mawayTeam\u001b[39m\u001b[38;5;124m'\u001b[39m][\u001b[38;5;124m'\u001b[39m\u001b[38;5;124mname\u001b[39m\u001b[38;5;124m'\u001b[39m]\n\u001b[1;32m---> 27\u001b[0m score_home \u001b[38;5;241m=\u001b[39m \u001b[43mmatch\u001b[49m\u001b[43m[\u001b[49m\u001b[38;5;124;43m'\u001b[39;49m\u001b[38;5;124;43mscore\u001b[39;49m\u001b[38;5;124;43m'\u001b[39;49m\u001b[43m]\u001b[49m\u001b[43m[\u001b[49m\u001b[38;5;124;43m'\u001b[39;49m\u001b[38;5;124;43mfullTime\u001b[39;49m\u001b[38;5;124;43m'\u001b[39;49m\u001b[43m]\u001b[49m\u001b[43m[\u001b[49m\u001b[38;5;124;43m'\u001b[39;49m\u001b[38;5;124;43mhomeTeam\u001b[39;49m\u001b[38;5;124;43m'\u001b[39;49m\u001b[43m]\u001b[49m\n\u001b[0;32m     28\u001b[0m score_away \u001b[38;5;241m=\u001b[39m match[\u001b[38;5;124m'\u001b[39m\u001b[38;5;124mscore\u001b[39m\u001b[38;5;124m'\u001b[39m][\u001b[38;5;124m'\u001b[39m\u001b[38;5;124mfullTime\u001b[39m\u001b[38;5;124m'\u001b[39m][\u001b[38;5;124m'\u001b[39m\u001b[38;5;124mawayTeam\u001b[39m\u001b[38;5;124m'\u001b[39m]\n\u001b[0;32m     29\u001b[0m status \u001b[38;5;241m=\u001b[39m match[\u001b[38;5;124m'\u001b[39m\u001b[38;5;124mstatus\u001b[39m\u001b[38;5;124m'\u001b[39m]\n",
      "\u001b[1;31mKeyError\u001b[0m: 'homeTeam'"
     ]
    }
   ],
   "source": [
    "import requests\n",
    "import csv\n",
    "\n",
    "# API endpoint and headers\n",
    "uri = 'https://api.football-data.org/v4/matches'\n",
    "headers = { 'X-Auth-Token': '397fe1adda68491385cb69bb407df652' }\n",
    "\n",
    "# Send the request to the API\n",
    "response = requests.get(uri, headers=headers)\n",
    "matches = response.json().get('matches', [])\n",
    "\n",
    "# Define the CSV file path\n",
    "csv_file = 'matches.csv'\n",
    "\n",
    "# Open the file for writing\n",
    "with open(csv_file, mode='w', newline='', encoding='utf-8') as file:\n",
    "    writer = csv.writer(file)\n",
    "\n",
    "    # Write the header (adjust based on the fields you need)\n",
    "    writer.writerow(['Match ID', 'Home Team', 'Away Team', 'Score Home', 'Score Away', 'Status'])\n",
    "\n",
    "    # Write match data\n",
    "    for match in matches:\n",
    "        match_id = match.get('id')\n",
    "        home_team = match['homeTeam']['name']\n",
    "        away_team = match['awayTeam']['name']\n",
    "        score_home = match['score']['fullTime']['homeTeam']\n",
    "        score_away = match['score']['fullTime']['awayTeam']\n",
    "        status = match['status']\n",
    "        \n",
    "        writer.writerow([match_id, home_team, away_team, score_home, score_away, status])\n",
    "\n",
    "print(f'Matches saved to {csv_file}')\n"
   ]
  },
  {
   "cell_type": "code",
   "execution_count": 12,
   "id": "8587870f-0f72-431d-b2f1-d47ac519e6d6",
   "metadata": {},
   "outputs": [],
   "source": [
    "import pandas as pd"
   ]
  },
  {
   "cell_type": "code",
   "execution_count": 13,
   "id": "b1701d57-ba4e-4c5e-8462-a901b86dde21",
   "metadata": {},
   "outputs": [],
   "source": [
    "df = pd.read_csv('matches.csv') "
   ]
  },
  {
   "cell_type": "code",
   "execution_count": 15,
   "id": "78f40e57-4634-41dd-85c9-69a6bda3003e",
   "metadata": {},
   "outputs": [
    {
     "data": {
      "text/html": [
       "<div>\n",
       "<style scoped>\n",
       "    .dataframe tbody tr th:only-of-type {\n",
       "        vertical-align: middle;\n",
       "    }\n",
       "\n",
       "    .dataframe tbody tr th {\n",
       "        vertical-align: top;\n",
       "    }\n",
       "\n",
       "    .dataframe thead th {\n",
       "        text-align: right;\n",
       "    }\n",
       "</style>\n",
       "<table border=\"1\" class=\"dataframe\">\n",
       "  <thead>\n",
       "    <tr style=\"text-align: right;\">\n",
       "      <th></th>\n",
       "      <th>Match ID</th>\n",
       "      <th>Home Team</th>\n",
       "      <th>Away Team</th>\n",
       "      <th>Score Home</th>\n",
       "      <th>Score Away</th>\n",
       "      <th>Status</th>\n",
       "    </tr>\n",
       "  </thead>\n",
       "  <tbody>\n",
       "  </tbody>\n",
       "</table>\n",
       "</div>"
      ],
      "text/plain": [
       "Empty DataFrame\n",
       "Columns: [Match ID, Home Team, Away Team, Score Home, Score Away, Status]\n",
       "Index: []"
      ]
     },
     "execution_count": 15,
     "metadata": {},
     "output_type": "execute_result"
    }
   ],
   "source": [
    "df"
   ]
  },
  {
   "cell_type": "code",
   "execution_count": 17,
   "id": "06f99eef-16ae-4717-95df-aa9b73516698",
   "metadata": {},
   "outputs": [
    {
     "name": "stdout",
     "output_type": "stream",
     "text": [
      "Matches saved to matches.json\n"
     ]
    }
   ],
   "source": [
    "import requests\n",
    "import json\n",
    "\n",
    "# API endpoint and headers\n",
    "uri = 'https://api.football-data.org/v4/matches'\n",
    "headers = { 'X-Auth-Token': '397fe1adda68491385cb69bb407df652' }\n",
    "\n",
    "# Send the request to the API\n",
    "response = requests.get(uri, headers=headers)\n",
    "matches = response.json()  # Get the entire JSON response\n",
    "\n",
    "# Define the JSON file path\n",
    "json_file = 'matches.json'\n",
    "\n",
    "# Save the response to a JSON file\n",
    "with open(json_file, 'w', encoding='utf-8') as file:\n",
    "    json.dump(matches, file, ensure_ascii=False, indent=4)\n",
    "\n",
    "print(f'Matches saved to {json_file}')"
   ]
  },
  {
   "cell_type": "code",
   "execution_count": null,
   "id": "af4d58f8-f0fe-4219-be1e-87d46d22c319",
   "metadata": {},
   "outputs": [],
   "source": []
  }
 ],
 "metadata": {
  "kernelspec": {
   "display_name": "Python 3 (ipykernel)",
   "language": "python",
   "name": "python3"
  },
  "language_info": {
   "codemirror_mode": {
    "name": "ipython",
    "version": 3
   },
   "file_extension": ".py",
   "mimetype": "text/x-python",
   "name": "python",
   "nbconvert_exporter": "python",
   "pygments_lexer": "ipython3",
   "version": "3.10.0"
  }
 },
 "nbformat": 4,
 "nbformat_minor": 5
}
